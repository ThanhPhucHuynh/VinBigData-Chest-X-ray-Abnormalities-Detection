{
  "nbformat": 4,
  "nbformat_minor": 0,
  "metadata": {
    "colab": {
      "name": "xray100.ipynb",
      "provenance": [],
      "collapsed_sections": []
    },
    "kernelspec": {
      "name": "python3",
      "display_name": "Python 3"
    },
    "accelerator": "GPU"
  },
  "cells": [
    {
      "cell_type": "code",
      "metadata": {
        "id": "c3FCuwTmP3Oh"
      },
      "source": [
        ""
      ],
      "execution_count": null,
      "outputs": []
    },
    {
      "cell_type": "code",
      "metadata": {
        "colab": {
          "base_uri": "https://localhost:8080/"
        },
        "id": "CCKKsjHOhd-Y",
        "outputId": "251716a9-bd0f-4e2a-e99d-689dd48d260e"
      },
      "source": [
        "from google.colab import drive\n",
        "drive.mount('/content/drive')"
      ],
      "execution_count": null,
      "outputs": [
        {
          "output_type": "stream",
          "text": [
            "Mounted at /content/drive\n"
          ],
          "name": "stdout"
        }
      ]
    },
    {
      "cell_type": "code",
      "metadata": {
        "id": "wRfn7yMS54qh"
      },
      "source": [
        "from google.colab import files\n",
        "files.upload()"
      ],
      "execution_count": null,
      "outputs": []
    },
    {
      "cell_type": "code",
      "metadata": {
        "id": "oQAHpd_VEo4Z"
      },
      "source": [
        "!cp /content/drive/MyDrive/train.txt /content/train.txt \n",
        "!cp /content/drive/MyDrive/val.txt /content/val.txt \n",
        "!cp /content/drive/MyDrive/train.cache /content/train.cache \n",
        "!cp /content/drive/MyDrive/val.cache /content/val.cache \n",
        "!cp /content/drive/MyDrive/kaggle.json /content/kaggle.json "
      ],
      "execution_count": null,
      "outputs": []
    },
    {
      "cell_type": "code",
      "metadata": {
        "id": "Nd-ZF-pv6Wg-"
      },
      "source": [
        "!mkdir '/root/.kaggle'\n",
        "!cp kaggle.json '/root/.kaggle'\n",
        "!chmod 600 /root/.kaggle/kaggle.json"
      ],
      "execution_count": null,
      "outputs": []
    },
    {
      "cell_type": "code",
      "metadata": {
        "id": "BUk9WDX45r2c"
      },
      "source": [
        " !pip install -q kaggle"
      ],
      "execution_count": null,
      "outputs": []
    },
    {
      "cell_type": "code",
      "metadata": {
        "id": "KHfiBcC27bqR",
        "colab": {
          "base_uri": "https://localhost:8080/",
          "height": 35
        },
        "outputId": "66441bb1-4214-4327-faa8-d997083d5148"
      },
      "source": [
        "pwd"
      ],
      "execution_count": null,
      "outputs": [
        {
          "output_type": "execute_result",
          "data": {
            "application/vnd.google.colaboratory.intrinsic+json": {
              "type": "string"
            },
            "text/plain": [
              "'/content'"
            ]
          },
          "metadata": {
            "tags": []
          },
          "execution_count": 4
        }
      ]
    },
    {
      "cell_type": "code",
      "metadata": {
        "colab": {
          "base_uri": "https://localhost:8080/"
        },
        "id": "RMVHHb2h7XJ8",
        "outputId": "cec2e95e-8f33-4150-9f11-88dd50d5addc"
      },
      "source": [
        "!kaggle datasets download -d awsaf49/vinbigdata-1024-image-dataset"
      ],
      "execution_count": null,
      "outputs": [
        {
          "output_type": "stream",
          "text": [
            "Downloading vinbigdata-1024-image-dataset.zip to /content\n",
            "100% 8.14G/8.14G [03:08<00:00, 42.2MB/s]\n",
            "100% 8.14G/8.14G [03:08<00:00, 46.3MB/s]\n"
          ],
          "name": "stdout"
        }
      ]
    },
    {
      "cell_type": "code",
      "metadata": {
        "id": "_nPbvA839MFF"
      },
      "source": [
        "!unzip -q vinbigdata-1024-image-dataset.zip"
      ],
      "execution_count": null,
      "outputs": []
    },
    {
      "cell_type": "code",
      "metadata": {
        "colab": {
          "base_uri": "https://localhost:8080/"
        },
        "id": "J2FyhxmeKb4S",
        "outputId": "7969c5af-49d7-4343-950a-b5eac1508c61"
      },
      "source": [
        "cd /content/drive/MyDrive/xray100"
      ],
      "execution_count": null,
      "outputs": [
        {
          "output_type": "stream",
          "text": [
            "/content/drive/MyDrive/xray100\n"
          ],
          "name": "stdout"
        }
      ]
    },
    {
      "cell_type": "code",
      "metadata": {
        "id": "Ow8_egYzB-2L"
      },
      "source": [
        "labels = [\n",
        "    \"Aortic enlargement\",\n",
        "    \"Atelectasis\",\n",
        "    \"Calcification\",\n",
        "    \"Cardiomegaly\",\n",
        "    \"Consolidation\",\n",
        "    \"ILD\",\n",
        "    \"Infiltration\",\n",
        "    \"Lung Opacity\",\n",
        "    \"Nodule/Mass\",\n",
        "    \"Other lesion\",\n",
        "    \"Pleural effusion\",\n",
        "    \"Pleural thickening\",\n",
        "    \"Pneumothorax\",\n",
        "    \"Pulmonary fibrosis\",\n",
        "    # \"No finding\",\n",
        "    # \"Finding\"\n",
        "]"
      ],
      "execution_count": null,
      "outputs": []
    },
    {
      "cell_type": "code",
      "metadata": {
        "id": "NzKzrmMcCAoA"
      },
      "source": [
        "import pandas as pd\n",
        "df_train = pd.read_csv('/content/drive/MyDrive/xray100/vinbigdata/train.csv')\n",
        "df_train = df_train[df_train.class_id!=14].reset_index(drop = True)\n"
      ],
      "execution_count": null,
      "outputs": []
    },
    {
      "cell_type": "code",
      "metadata": {
        "id": "a9QAgLoTxk-S"
      },
      "source": [
        "import pandas as pd\n",
        "df_train = pd.read_csv('/content/vinbigdata/train.csv')\n",
        "df_train = df_train[df_train.class_id!=14].reset_index(drop = True)\n"
      ],
      "execution_count": null,
      "outputs": []
    },
    {
      "cell_type": "code",
      "metadata": {
        "id": "WOOAQr68_qOQ"
      },
      "source": [
        "def bb_iou(boxA, boxB):\n",
        "    # determine the (x, y)-coordinates of the intersection rectangle\n",
        "    xA = max(boxA[0], boxB[0])\n",
        "    yA = max(boxA[1], boxB[1])\n",
        "    xB = min(boxA[2], boxB[2])\n",
        "    yB = min(boxA[3], boxB[3])\n",
        "    # compute the area of intersection rectangle\n",
        "    interArea = max(0, xB - xA + 1) * max(0, yB - yA + 1)\n",
        "    # compute the area of both the prediction and ground-truth\n",
        "    # rectangles\n",
        "    boxAArea = (boxA[2] - boxA[0] + 1) * (boxA[3] - boxA[1] + 1)\n",
        "    boxBArea = (boxB[2] - boxB[0] + 1) * (boxB[3] - boxB[1] + 1)\n",
        "    # compute the intersection over union by taking the intersection\n",
        "    # area and dividing it by the sum of prediction + ground-truth\n",
        "    # areas - the interesection area\n",
        "    iou = interArea / float(boxAArea + boxBArea - interArea)\n",
        "    # return the intersection over union value\n",
        "    return iou\n",
        " \n",
        " \n",
        "def averageCoordinates(df, threshold):\n",
        "    tmp_df = df.reset_index()\n",
        "    duplicate = {}\n",
        "    for index1, row1 in tmp_df.iterrows():\n",
        "        if index1 < len(tmp_df) - 1:\n",
        "            next_index = index1 + 1\n",
        "            for index2, row2 in tmp_df.loc[next_index:,:].iterrows():\n",
        "                if row1[\"class_id\"] == row2[\"class_id\"]:\n",
        "                    boxA = [row1['x_min'], row1['y_min'], row1['x_max'], row1['y_max']]\n",
        "                    boxB = [row2['x_min'], row2['y_min'], row2['x_max'], row2['y_max']]\n",
        "                    iou = bb_iou(boxA, boxB)\n",
        "                    if iou > threshold:\n",
        "                        if row1[\"index\"] not in duplicate:\n",
        "                            duplicate[row1[\"index\"]] = []\n",
        "                        duplicate[row1[\"index\"]].append(row2[\"index\"])\n",
        " \n",
        "    remove_keys = []\n",
        "    for k in duplicate:\n",
        "        for i in duplicate[k]:\n",
        "            if i in duplicate:\n",
        "                for id in duplicate[i]:\n",
        "                    if id not in duplicate[k]:\n",
        "                        duplicate[k].append(id)\n",
        "                if i not in remove_keys:\n",
        "                    remove_keys.append(i)\n",
        "    for i in remove_keys:\n",
        "        del duplicate[i]\n",
        " \n",
        "    rows = []\n",
        "    removed_index = []\n",
        "    for k in duplicate:\n",
        "        row = tmp_df[tmp_df['index'] == k].iloc[0]\n",
        "        X_min = [row['x_min']]\n",
        "        X_max = [row['x_max']]\n",
        "        Y_min = [row['y_min']]\n",
        "        Y_max = [row['y_max']]\n",
        "        removed_index.append(k)\n",
        "        for i in duplicate[k]:\n",
        "            removed_index.append(i)\n",
        "            row = tmp_df[tmp_df['index'] == i].iloc[0]\n",
        "            X_min.append(row['x_min'])\n",
        "            X_max.append(row['x_max'])\n",
        "            Y_min.append(row['y_min'])\n",
        "            Y_max.append(row['y_max'])\n",
        "        X_min_avg = sum(X_min) / len(X_min)\n",
        "        X_max_avg = sum(X_max) / len(X_max)\n",
        "        Y_min_avg = sum(Y_min) / len(Y_min)\n",
        "        Y_max_avg = sum(Y_max) / len(Y_max)\n",
        "        new_row = [row['image_id'], row['class_name'], row['class_id'], X_min_avg, Y_min_avg, X_max_avg, Y_max_avg, row['width'], row['height']]\n",
        "        rows.append(new_row)\n",
        " \n",
        "    for index, row in tmp_df.iterrows():\n",
        "        if row['index'] not in removed_index:\n",
        "            new_row = [row['image_id'], row['class_name'], row['class_id'], row['x_min'], row['y_min'], row['x_max'], row['y_max'], row['width'], row['height']]\n",
        "            rows.append(new_row)\n",
        " \n",
        "    new_df = pd.DataFrame(rows, columns =['image_id', 'class_name', 'class_id', 'x_min', 'y_min', 'x_max', 'y_max', 'width', 'height'])\n",
        "    return new_df\n",
        " \n",
        " \n",
        "images_lst = df_train.groupby('image_id').apply(list).reset_index()['image_id'].tolist()\n",
        "images_dir = '/content/vinbigdata/train/'\n",
        " \n",
        "# Add class_id=14 and class_id=15\n",
        "frames = []\n",
        "for img_id in images_lst:\n",
        "    sub_df = df_train[df_train['image_id'] == img_id].reset_index()\n",
        "    sub_df = averageCoordinates(sub_df,  0.5)\n",
        "    frames.append(sub_df)\n",
        "    rows = []\n",
        "    if int(sub_df[\"class_id\"][0]) == 14:\n",
        "        rows.append(\"14 0.5 0.5 1.0 1.0\")\n",
        "    else:\n",
        "        for index, row in sub_df.iterrows():\n",
        "            w = int(row[\"width\"])\n",
        "            h = int(row[\"height\"])\n",
        "            cx = (int(row[\"x_min\"]) + int(row[\"x_max\"])) / 2 / w\n",
        "            cy = (int(row[\"y_min\"]) + int(row[\"y_max\"])) / 2 / h\n",
        "            bw = (int(row[\"x_max\"]) - int(row[\"x_min\"])) / w\n",
        "            bh = (int(row[\"y_max\"]) - int(row[\"y_min\"])) / h\n",
        "            row = [str(row[\"class_id\"]), str(cx), str(cy), str(bw), str(bh)]\n",
        "            rows.append(\" \".join(row))\n",
        "        rows.append(\"15 0.5 0.5 1.0 1.0\")\n",
        "    f = open(images_dir + img_id + \".txt\", \"w\")\n",
        "    f.write(\"\\n\".join(rows))\n",
        "    f.close()\n",
        " \n",
        "new_df = pd.concat(frames)\n",
        "new_df.to_csv('/content/new_train.csv', index=False)"
      ],
      "execution_count": null,
      "outputs": []
    },
    {
      "cell_type": "code",
      "metadata": {
        "colab": {
          "base_uri": "https://localhost:8080/",
          "height": 204
        },
        "id": "dXFTOAF7yKtr",
        "outputId": "3ca9f15d-7168-4abb-cd95-7c19ae4007a6"
      },
      "source": [
        "import numpy as np, pandas as pd\n",
        "from glob import glob\n",
        "import shutil, os\n",
        "import matplotlib.pyplot as plt\n",
        "from sklearn.model_selection import GroupKFold\n",
        "from tqdm.notebook import tqdm\n",
        "import seaborn as sns\n",
        "import pandas as pd\n",
        "from sklearn.model_selection import train_test_split\n",
        "\n",
        "df_train = pd.read_csv('/content/new_train.csv')\n",
        "gkf  = GroupKFold(n_splits = 5)\n",
        "df_train['fold'] = -1\n",
        "for fold, (train_idx, val_idx) in enumerate(gkf.split(df_train, groups = df_train.image_id.tolist())):\n",
        "    df_train.loc[val_idx, 'fold'] = fold\n",
        "df_train.head()"
      ],
      "execution_count": null,
      "outputs": [
        {
          "output_type": "execute_result",
          "data": {
            "text/html": [
              "<div>\n",
              "<style scoped>\n",
              "    .dataframe tbody tr th:only-of-type {\n",
              "        vertical-align: middle;\n",
              "    }\n",
              "\n",
              "    .dataframe tbody tr th {\n",
              "        vertical-align: top;\n",
              "    }\n",
              "\n",
              "    .dataframe thead th {\n",
              "        text-align: right;\n",
              "    }\n",
              "</style>\n",
              "<table border=\"1\" class=\"dataframe\">\n",
              "  <thead>\n",
              "    <tr style=\"text-align: right;\">\n",
              "      <th></th>\n",
              "      <th>image_id</th>\n",
              "      <th>class_name</th>\n",
              "      <th>class_id</th>\n",
              "      <th>x_min</th>\n",
              "      <th>y_min</th>\n",
              "      <th>x_max</th>\n",
              "      <th>y_max</th>\n",
              "      <th>width</th>\n",
              "      <th>height</th>\n",
              "      <th>fold</th>\n",
              "    </tr>\n",
              "  </thead>\n",
              "  <tbody>\n",
              "    <tr>\n",
              "      <th>0</th>\n",
              "      <td>0005e8e3701dfb1dd93d53e2ff537b6e</td>\n",
              "      <td>Lung Opacity</td>\n",
              "      <td>7</td>\n",
              "      <td>902.5</td>\n",
              "      <td>585.0</td>\n",
              "      <td>1204.0</td>\n",
              "      <td>889.0</td>\n",
              "      <td>3072</td>\n",
              "      <td>3072</td>\n",
              "      <td>2</td>\n",
              "    </tr>\n",
              "    <tr>\n",
              "      <th>1</th>\n",
              "      <td>0005e8e3701dfb1dd93d53e2ff537b6e</td>\n",
              "      <td>Nodule/Mass</td>\n",
              "      <td>8</td>\n",
              "      <td>932.0</td>\n",
              "      <td>567.0</td>\n",
              "      <td>1197.0</td>\n",
              "      <td>896.0</td>\n",
              "      <td>3072</td>\n",
              "      <td>3072</td>\n",
              "      <td>2</td>\n",
              "    </tr>\n",
              "    <tr>\n",
              "      <th>2</th>\n",
              "      <td>0005e8e3701dfb1dd93d53e2ff537b6e</td>\n",
              "      <td>Infiltration</td>\n",
              "      <td>6</td>\n",
              "      <td>900.0</td>\n",
              "      <td>587.0</td>\n",
              "      <td>1205.0</td>\n",
              "      <td>888.0</td>\n",
              "      <td>3072</td>\n",
              "      <td>3072</td>\n",
              "      <td>2</td>\n",
              "    </tr>\n",
              "    <tr>\n",
              "      <th>3</th>\n",
              "      <td>0005e8e3701dfb1dd93d53e2ff537b6e</td>\n",
              "      <td>Consolidation</td>\n",
              "      <td>4</td>\n",
              "      <td>932.0</td>\n",
              "      <td>567.0</td>\n",
              "      <td>1197.0</td>\n",
              "      <td>896.0</td>\n",
              "      <td>3072</td>\n",
              "      <td>3072</td>\n",
              "      <td>2</td>\n",
              "    </tr>\n",
              "    <tr>\n",
              "      <th>4</th>\n",
              "      <td>0007d316f756b3fa0baea2ff514ce945</td>\n",
              "      <td>Aortic enlargement</td>\n",
              "      <td>0</td>\n",
              "      <td>1255.0</td>\n",
              "      <td>1030.0</td>\n",
              "      <td>1490.0</td>\n",
              "      <td>1261.0</td>\n",
              "      <td>2304</td>\n",
              "      <td>2880</td>\n",
              "      <td>0</td>\n",
              "    </tr>\n",
              "  </tbody>\n",
              "</table>\n",
              "</div>"
            ],
            "text/plain": [
              "                           image_id          class_name  ...  height  fold\n",
              "0  0005e8e3701dfb1dd93d53e2ff537b6e        Lung Opacity  ...    3072     2\n",
              "1  0005e8e3701dfb1dd93d53e2ff537b6e         Nodule/Mass  ...    3072     2\n",
              "2  0005e8e3701dfb1dd93d53e2ff537b6e        Infiltration  ...    3072     2\n",
              "3  0005e8e3701dfb1dd93d53e2ff537b6e       Consolidation  ...    3072     2\n",
              "4  0007d316f756b3fa0baea2ff514ce945  Aortic enlargement  ...    2880     0\n",
              "\n",
              "[5 rows x 10 columns]"
            ]
          },
          "metadata": {
            "tags": []
          },
          "execution_count": 8
        }
      ]
    },
    {
      "cell_type": "code",
      "metadata": {
        "id": "4fUaUil6yMbH"
      },
      "source": [
        "val = df_train[df_train.fold==fold]\n",
        "train = df_train[df_train.fold!=fold]"
      ],
      "execution_count": null,
      "outputs": []
    },
    {
      "cell_type": "code",
      "metadata": {
        "id": "l3tOhonjyOyl"
      },
      "source": [
        "# import pandas as pd\n",
        "# from sklearn.model_selection import train_test_split\n",
        " \n",
        "# df_train = pd.read_csv('/content/new_train.csv')\n",
        "# train, val = train_test_split(df_train, test_size=0.2)\n",
        " \n",
        "train_images_lst = train.groupby('image_id').apply(list).reset_index()['image_id'].tolist()\n",
        "val_images_lst = val.groupby('image_id').apply(list).reset_index()['image_id'].tolist()\n",
        " \n",
        " \n",
        "def createImagesTxt(_images, filepath):\n",
        "    images_dir = '/content/vinbigdata/train/'\n",
        "    rows = []\n",
        "    for img_id in _images:\n",
        "        rows.append(images_dir + img_id + '.png')\n",
        "    f = open(filepath, \"w\")\n",
        "    f.write(\"\\n\".join(rows))\n",
        "    f.close()\n",
        " \n",
        " \n",
        "train_path = '/content/train.txt'\n",
        "val_path = '/content/val.txt'\n",
        "createImagesTxt(train_images_lst, train_path)\n",
        "createImagesTxt(val_images_lst, val_path)"
      ],
      "execution_count": null,
      "outputs": []
    },
    {
      "cell_type": "code",
      "metadata": {
        "colab": {
          "base_uri": "https://localhost:8080/",
          "height": 297
        },
        "id": "2ilkyGM40-P-",
        "outputId": "56fcd408-5087-44c1-fb2f-3240425c947a"
      },
      "source": [
        "val.describe()"
      ],
      "execution_count": null,
      "outputs": [
        {
          "output_type": "execute_result",
          "data": {
            "text/html": [
              "<div>\n",
              "<style scoped>\n",
              "    .dataframe tbody tr th:only-of-type {\n",
              "        vertical-align: middle;\n",
              "    }\n",
              "\n",
              "    .dataframe tbody tr th {\n",
              "        vertical-align: top;\n",
              "    }\n",
              "\n",
              "    .dataframe thead th {\n",
              "        text-align: right;\n",
              "    }\n",
              "</style>\n",
              "<table border=\"1\" class=\"dataframe\">\n",
              "  <thead>\n",
              "    <tr style=\"text-align: right;\">\n",
              "      <th></th>\n",
              "      <th>class_id</th>\n",
              "      <th>x_min</th>\n",
              "      <th>y_min</th>\n",
              "      <th>x_max</th>\n",
              "      <th>y_max</th>\n",
              "      <th>width</th>\n",
              "      <th>height</th>\n",
              "      <th>fold</th>\n",
              "    </tr>\n",
              "  </thead>\n",
              "  <tbody>\n",
              "    <tr>\n",
              "      <th>count</th>\n",
              "      <td>4763.000000</td>\n",
              "      <td>4763.000000</td>\n",
              "      <td>4763.000000</td>\n",
              "      <td>4763.000000</td>\n",
              "      <td>4763.000000</td>\n",
              "      <td>4763.000000</td>\n",
              "      <td>4763.000000</td>\n",
              "      <td>4763.0</td>\n",
              "    </tr>\n",
              "    <tr>\n",
              "      <th>mean</th>\n",
              "      <td>7.198824</td>\n",
              "      <td>1061.189131</td>\n",
              "      <td>1067.908461</td>\n",
              "      <td>1455.562916</td>\n",
              "      <td>1437.541955</td>\n",
              "      <td>2557.334033</td>\n",
              "      <td>2887.770523</td>\n",
              "      <td>4.0</td>\n",
              "    </tr>\n",
              "    <tr>\n",
              "      <th>std</th>\n",
              "      <td>4.384471</td>\n",
              "      <td>595.231426</td>\n",
              "      <td>575.916958</td>\n",
              "      <td>617.126164</td>\n",
              "      <td>607.811920</td>\n",
              "      <td>359.505511</td>\n",
              "      <td>269.500336</td>\n",
              "      <td>0.0</td>\n",
              "    </tr>\n",
              "    <tr>\n",
              "      <th>min</th>\n",
              "      <td>0.000000</td>\n",
              "      <td>0.000000</td>\n",
              "      <td>0.500000</td>\n",
              "      <td>128.000000</td>\n",
              "      <td>122.000000</td>\n",
              "      <td>1704.000000</td>\n",
              "      <td>1832.000000</td>\n",
              "      <td>4.0</td>\n",
              "    </tr>\n",
              "    <tr>\n",
              "      <th>25%</th>\n",
              "      <td>3.000000</td>\n",
              "      <td>564.500000</td>\n",
              "      <td>592.583333</td>\n",
              "      <td>941.000000</td>\n",
              "      <td>960.000000</td>\n",
              "      <td>2304.000000</td>\n",
              "      <td>2825.500000</td>\n",
              "      <td>4.0</td>\n",
              "    </tr>\n",
              "    <tr>\n",
              "      <th>50%</th>\n",
              "      <td>8.000000</td>\n",
              "      <td>1008.666667</td>\n",
              "      <td>927.000000</td>\n",
              "      <td>1484.000000</td>\n",
              "      <td>1383.333333</td>\n",
              "      <td>2540.000000</td>\n",
              "      <td>2880.000000</td>\n",
              "      <td>4.0</td>\n",
              "    </tr>\n",
              "    <tr>\n",
              "      <th>75%</th>\n",
              "      <td>11.000000</td>\n",
              "      <td>1509.833333</td>\n",
              "      <td>1503.250000</td>\n",
              "      <td>1936.000000</td>\n",
              "      <td>1937.000000</td>\n",
              "      <td>2832.500000</td>\n",
              "      <td>3072.000000</td>\n",
              "      <td>4.0</td>\n",
              "    </tr>\n",
              "    <tr>\n",
              "      <th>max</th>\n",
              "      <td>13.000000</td>\n",
              "      <td>2848.000000</td>\n",
              "      <td>2933.000000</td>\n",
              "      <td>3127.000000</td>\n",
              "      <td>3094.500000</td>\n",
              "      <td>3320.000000</td>\n",
              "      <td>3408.000000</td>\n",
              "      <td>4.0</td>\n",
              "    </tr>\n",
              "  </tbody>\n",
              "</table>\n",
              "</div>"
            ],
            "text/plain": [
              "          class_id        x_min        y_min  ...        width       height    fold\n",
              "count  4763.000000  4763.000000  4763.000000  ...  4763.000000  4763.000000  4763.0\n",
              "mean      7.198824  1061.189131  1067.908461  ...  2557.334033  2887.770523     4.0\n",
              "std       4.384471   595.231426   575.916958  ...   359.505511   269.500336     0.0\n",
              "min       0.000000     0.000000     0.500000  ...  1704.000000  1832.000000     4.0\n",
              "25%       3.000000   564.500000   592.583333  ...  2304.000000  2825.500000     4.0\n",
              "50%       8.000000  1008.666667   927.000000  ...  2540.000000  2880.000000     4.0\n",
              "75%      11.000000  1509.833333  1503.250000  ...  2832.500000  3072.000000     4.0\n",
              "max      13.000000  2848.000000  2933.000000  ...  3320.000000  3408.000000     4.0\n",
              "\n",
              "[8 rows x 8 columns]"
            ]
          },
          "metadata": {
            "tags": []
          },
          "execution_count": 19
        }
      ]
    },
    {
      "cell_type": "code",
      "metadata": {
        "id": "IkfngkB91IOD",
        "colab": {
          "base_uri": "https://localhost:8080/",
          "height": 297
        },
        "outputId": "9b4d568a-b88c-4e06-b194-ed6f2de9820e"
      },
      "source": [
        "train.describe()"
      ],
      "execution_count": null,
      "outputs": [
        {
          "output_type": "execute_result",
          "data": {
            "text/html": [
              "<div>\n",
              "<style scoped>\n",
              "    .dataframe tbody tr th:only-of-type {\n",
              "        vertical-align: middle;\n",
              "    }\n",
              "\n",
              "    .dataframe tbody tr th {\n",
              "        vertical-align: top;\n",
              "    }\n",
              "\n",
              "    .dataframe thead th {\n",
              "        text-align: right;\n",
              "    }\n",
              "</style>\n",
              "<table border=\"1\" class=\"dataframe\">\n",
              "  <thead>\n",
              "    <tr style=\"text-align: right;\">\n",
              "      <th></th>\n",
              "      <th>class_id</th>\n",
              "      <th>x_min</th>\n",
              "      <th>y_min</th>\n",
              "      <th>x_max</th>\n",
              "      <th>y_max</th>\n",
              "      <th>width</th>\n",
              "      <th>height</th>\n",
              "      <th>fold</th>\n",
              "    </tr>\n",
              "  </thead>\n",
              "  <tbody>\n",
              "    <tr>\n",
              "      <th>count</th>\n",
              "      <td>19055.000000</td>\n",
              "      <td>19055.000000</td>\n",
              "      <td>19055.000000</td>\n",
              "      <td>19055.000000</td>\n",
              "      <td>19055.000000</td>\n",
              "      <td>19055.000000</td>\n",
              "      <td>19055.000000</td>\n",
              "      <td>19055.000000</td>\n",
              "    </tr>\n",
              "    <tr>\n",
              "      <th>mean</th>\n",
              "      <td>7.254579</td>\n",
              "      <td>1048.869435</td>\n",
              "      <td>1075.378453</td>\n",
              "      <td>1439.954229</td>\n",
              "      <td>1448.394704</td>\n",
              "      <td>2517.488796</td>\n",
              "      <td>2867.902283</td>\n",
              "      <td>1.499921</td>\n",
              "    </tr>\n",
              "    <tr>\n",
              "      <th>std</th>\n",
              "      <td>4.333008</td>\n",
              "      <td>599.280243</td>\n",
              "      <td>577.465671</td>\n",
              "      <td>621.189916</td>\n",
              "      <td>605.249581</td>\n",
              "      <td>338.584867</td>\n",
              "      <td>283.680265</td>\n",
              "      <td>1.118040</td>\n",
              "    </tr>\n",
              "    <tr>\n",
              "      <th>min</th>\n",
              "      <td>0.000000</td>\n",
              "      <td>0.000000</td>\n",
              "      <td>0.000000</td>\n",
              "      <td>68.000000</td>\n",
              "      <td>103.000000</td>\n",
              "      <td>1572.000000</td>\n",
              "      <td>1712.000000</td>\n",
              "      <td>0.000000</td>\n",
              "    </tr>\n",
              "    <tr>\n",
              "      <th>25%</th>\n",
              "      <td>3.000000</td>\n",
              "      <td>548.000000</td>\n",
              "      <td>605.000000</td>\n",
              "      <td>919.000000</td>\n",
              "      <td>979.000000</td>\n",
              "      <td>2304.000000</td>\n",
              "      <td>2738.000000</td>\n",
              "      <td>0.500000</td>\n",
              "    </tr>\n",
              "    <tr>\n",
              "      <th>50%</th>\n",
              "      <td>8.000000</td>\n",
              "      <td>987.000000</td>\n",
              "      <td>951.000000</td>\n",
              "      <td>1484.000000</td>\n",
              "      <td>1416.000000</td>\n",
              "      <td>2488.000000</td>\n",
              "      <td>2880.000000</td>\n",
              "      <td>1.000000</td>\n",
              "    </tr>\n",
              "    <tr>\n",
              "      <th>75%</th>\n",
              "      <td>11.000000</td>\n",
              "      <td>1510.000000</td>\n",
              "      <td>1497.000000</td>\n",
              "      <td>1934.000000</td>\n",
              "      <td>1919.416667</td>\n",
              "      <td>2757.000000</td>\n",
              "      <td>3072.000000</td>\n",
              "      <td>2.000000</td>\n",
              "    </tr>\n",
              "    <tr>\n",
              "      <th>max</th>\n",
              "      <td>13.000000</td>\n",
              "      <td>2934.000000</td>\n",
              "      <td>3098.000000</td>\n",
              "      <td>3056.000000</td>\n",
              "      <td>3384.000000</td>\n",
              "      <td>3320.000000</td>\n",
              "      <td>3408.000000</td>\n",
              "      <td>3.000000</td>\n",
              "    </tr>\n",
              "  </tbody>\n",
              "</table>\n",
              "</div>"
            ],
            "text/plain": [
              "           class_id         x_min  ...        height          fold\n",
              "count  19055.000000  19055.000000  ...  19055.000000  19055.000000\n",
              "mean       7.254579   1048.869435  ...   2867.902283      1.499921\n",
              "std        4.333008    599.280243  ...    283.680265      1.118040\n",
              "min        0.000000      0.000000  ...   1712.000000      0.000000\n",
              "25%        3.000000    548.000000  ...   2738.000000      0.500000\n",
              "50%        8.000000    987.000000  ...   2880.000000      1.000000\n",
              "75%       11.000000   1510.000000  ...   3072.000000      2.000000\n",
              "max       13.000000   2934.000000  ...   3408.000000      3.000000\n",
              "\n",
              "[8 rows x 8 columns]"
            ]
          },
          "metadata": {
            "tags": []
          },
          "execution_count": 21
        }
      ]
    },
    {
      "cell_type": "code",
      "metadata": {
        "id": "Iu6BGsoH_wTQ"
      },
      "source": [
        "import pandas as pd\n",
        "from sklearn.model_selection import train_test_split\n",
        " \n",
        "df_train = pd.read_csv('/content/new_train.csv')\n",
        "train, val = train_test_split(df_train, test_size=0.2)\n",
        " \n",
        "train_images_lst = train.groupby('image_id').apply(list).reset_index()['image_id'].tolist()\n",
        "val_images_lst = val.groupby('image_id').apply(list).reset_index()['image_id'].tolist()\n",
        " \n",
        " \n",
        "def createImagesTxt(_images, filepath):\n",
        "    images_dir = '/content/vinbigdata/train/'\n",
        "    rows = []\n",
        "    for img_id in _images:\n",
        "        rows.append(images_dir + img_id + '.png')\n",
        "    f = open(filepath, \"w\")\n",
        "    f.write(\"\\n\".join(rows))\n",
        "    f.close()\n",
        " \n",
        " \n",
        "train_path = '/content/train.txt'\n",
        "val_path = '/content/val.txt'\n",
        "createImagesTxt(train_images_lst, train_path)\n",
        "createImagesTxt(val_images_lst, val_path)"
      ],
      "execution_count": null,
      "outputs": []
    },
    {
      "cell_type": "code",
      "metadata": {
        "id": "EoIScy-H_1Vz"
      },
      "source": [
        "!rm -f /content/config.yaml\n",
        "!echo \"train: /content/train.txt\" >> /content/config.yaml\n",
        "!echo \"val: /content/val.txt\" >> /content/config.yaml\n",
        "!echo \"nc: 16\" >> /content/config.yaml\n",
        "!echo \"names: ['Aortic enlargement','Atelectasis','Calcification','Cardiomegaly','Consolidation','ILD','Infiltration','Lung Opacity','Nodule/Mass','Other lesion','Pleural effusion','Pleural thickening','Pneumothorax','Pulmonary fibrosis','No finding','Finding']\" >> /content/config.yaml"
      ],
      "execution_count": null,
      "outputs": []
    },
    {
      "cell_type": "code",
      "metadata": {
        "id": "i_DzM9H3yWx4"
      },
      "source": [
        "!rm -f /content/config.yaml\n",
        "!echo \"train: /content/train.txt\" >> /content/config.yaml\n",
        "!echo \"val: /content/val.txt\" >> /content/config.yaml\n",
        "!echo \"nc: 14\" >> /content/config.yaml\n",
        "!echo \"names: ['Aortic enlargement','Atelectasis','Calcification','Cardiomegaly','Consolidation','ILD','Infiltration','Lung Opacity','Nodule/Mass','Other lesion','Pleural effusion','Pleural thickening','Pneumothorax','Pulmonary fibrosis']\" >> /content/config.yaml"
      ],
      "execution_count": null,
      "outputs": []
    },
    {
      "cell_type": "code",
      "metadata": {
        "id": "fzzAA3SzDDfp",
        "colab": {
          "base_uri": "https://localhost:8080/"
        },
        "outputId": "c8f1453d-4f4d-4a51-851e-3fff834a0b3b"
      },
      "source": [
        "%cd /content/drive/MyDrive/yolo200/yolov5/\n",
        "!pip install -qr requirements.txt"
      ],
      "execution_count": null,
      "outputs": [
        {
          "output_type": "stream",
          "text": [
            "/content/drive/MyDrive/yolo200/yolov5\n",
            "\u001b[K     |████████████████████████████████| 645kB 9.3MB/s \n",
            "\u001b[?25h"
          ],
          "name": "stdout"
        }
      ]
    },
    {
      "cell_type": "code",
      "metadata": {
        "id": "tZWFlsaQMNFW",
        "colab": {
          "base_uri": "https://localhost:8080/"
        },
        "outputId": "7cf4567b-bfcb-4a7d-a7ba-3aca22b3e16d"
      },
      "source": [
        "!pip install wandb"
      ],
      "execution_count": null,
      "outputs": [
        {
          "output_type": "stream",
          "text": [
            "Collecting wandb\n",
            "\u001b[?25l  Downloading https://files.pythonhosted.org/packages/26/70/a0f47563dc06df4dad4db96938d65a10efeb8ea909a423c96a0bfffc845c/wandb-0.10.24-py2.py3-none-any.whl (2.0MB)\n",
            "\u001b[K     |████████████████████████████████| 2.1MB 7.9MB/s \n",
            "\u001b[?25hRequirement already satisfied: PyYAML in /usr/local/lib/python3.7/dist-packages (from wandb) (5.4.1)\n",
            "Collecting configparser>=3.8.1\n",
            "  Downloading https://files.pythonhosted.org/packages/fd/01/ff260a18caaf4457eb028c96eeb405c4a230ca06c8ec9c1379f813caa52e/configparser-5.0.2-py3-none-any.whl\n",
            "Requirement already satisfied: python-dateutil>=2.6.1 in /usr/local/lib/python3.7/dist-packages (from wandb) (2.8.1)\n",
            "Requirement already satisfied: requests<3,>=2.0.0 in /usr/local/lib/python3.7/dist-packages (from wandb) (2.23.0)\n",
            "Collecting shortuuid>=0.5.0\n",
            "  Downloading https://files.pythonhosted.org/packages/25/a6/2ecc1daa6a304e7f1b216f0896b26156b78e7c38e1211e9b798b4716c53d/shortuuid-1.0.1-py3-none-any.whl\n",
            "Requirement already satisfied: psutil>=5.0.0 in /usr/local/lib/python3.7/dist-packages (from wandb) (5.4.8)\n",
            "Collecting sentry-sdk>=0.4.0\n",
            "\u001b[?25l  Downloading https://files.pythonhosted.org/packages/f3/92/5a33be64990ba815364a8f2dd9e6f51de60d23dfddafb4f1fc5577d4dc64/sentry_sdk-1.0.0-py2.py3-none-any.whl (131kB)\n",
            "\u001b[K     |████████████████████████████████| 133kB 49.8MB/s \n",
            "\u001b[?25hRequirement already satisfied: Click>=7.0 in /usr/local/lib/python3.7/dist-packages (from wandb) (7.1.2)\n",
            "Requirement already satisfied: promise<3,>=2.0 in /usr/local/lib/python3.7/dist-packages (from wandb) (2.3)\n",
            "Collecting pathtools\n",
            "  Downloading https://files.pythonhosted.org/packages/e7/7f/470d6fcdf23f9f3518f6b0b76be9df16dcc8630ad409947f8be2eb0ed13a/pathtools-0.1.2.tar.gz\n",
            "Requirement already satisfied: protobuf>=3.12.0 in /usr/local/lib/python3.7/dist-packages (from wandb) (3.12.4)\n",
            "Collecting docker-pycreds>=0.4.0\n",
            "  Downloading https://files.pythonhosted.org/packages/f5/e8/f6bd1eee09314e7e6dee49cbe2c5e22314ccdb38db16c9fc72d2fa80d054/docker_pycreds-0.4.0-py2.py3-none-any.whl\n",
            "Collecting subprocess32>=3.5.3\n",
            "\u001b[?25l  Downloading https://files.pythonhosted.org/packages/32/c8/564be4d12629b912ea431f1a50eb8b3b9d00f1a0b1ceff17f266be190007/subprocess32-3.5.4.tar.gz (97kB)\n",
            "\u001b[K     |████████████████████████████████| 102kB 12.1MB/s \n",
            "\u001b[?25hRequirement already satisfied: six>=1.13.0 in /usr/local/lib/python3.7/dist-packages (from wandb) (1.15.0)\n",
            "Collecting GitPython>=1.0.0\n",
            "\u001b[?25l  Downloading https://files.pythonhosted.org/packages/a6/99/98019716955ba243657daedd1de8f3a88ca1f5b75057c38e959db22fb87b/GitPython-3.1.14-py3-none-any.whl (159kB)\n",
            "\u001b[K     |████████████████████████████████| 163kB 37.6MB/s \n",
            "\u001b[?25hRequirement already satisfied: chardet<4,>=3.0.2 in /usr/local/lib/python3.7/dist-packages (from requests<3,>=2.0.0->wandb) (3.0.4)\n",
            "Requirement already satisfied: urllib3!=1.25.0,!=1.25.1,<1.26,>=1.21.1 in /usr/local/lib/python3.7/dist-packages (from requests<3,>=2.0.0->wandb) (1.24.3)\n",
            "Requirement already satisfied: idna<3,>=2.5 in /usr/local/lib/python3.7/dist-packages (from requests<3,>=2.0.0->wandb) (2.10)\n",
            "Requirement already satisfied: certifi>=2017.4.17 in /usr/local/lib/python3.7/dist-packages (from requests<3,>=2.0.0->wandb) (2020.12.5)\n",
            "Requirement already satisfied: setuptools in /usr/local/lib/python3.7/dist-packages (from protobuf>=3.12.0->wandb) (54.2.0)\n",
            "Collecting gitdb<5,>=4.0.1\n",
            "\u001b[?25l  Downloading https://files.pythonhosted.org/packages/ea/e8/f414d1a4f0bbc668ed441f74f44c116d9816833a48bf81d22b697090dba8/gitdb-4.0.7-py3-none-any.whl (63kB)\n",
            "\u001b[K     |████████████████████████████████| 71kB 10.2MB/s \n",
            "\u001b[?25hCollecting smmap<5,>=3.0.1\n",
            "  Downloading https://files.pythonhosted.org/packages/68/ee/d540eb5e5996eb81c26ceffac6ee49041d473bc5125f2aa995cf51ec1cf1/smmap-4.0.0-py2.py3-none-any.whl\n",
            "Building wheels for collected packages: pathtools, subprocess32\n",
            "  Building wheel for pathtools (setup.py) ... \u001b[?25l\u001b[?25hdone\n",
            "  Created wheel for pathtools: filename=pathtools-0.1.2-cp37-none-any.whl size=8786 sha256=56b8a046c61730d9ee64d97083ea537b3c77a7489996925d074cef461f76b49d\n",
            "  Stored in directory: /root/.cache/pip/wheels/0b/04/79/c3b0c3a0266a3cb4376da31e5bfe8bba0c489246968a68e843\n",
            "  Building wheel for subprocess32 (setup.py) ... \u001b[?25l\u001b[?25hdone\n",
            "  Created wheel for subprocess32: filename=subprocess32-3.5.4-cp37-none-any.whl size=6489 sha256=d7ff32c7715954561dc0144fcbdc31d2f353b4347bf76235998cb375cf573e92\n",
            "  Stored in directory: /root/.cache/pip/wheels/68/39/1a/5e402bdfdf004af1786c8b853fd92f8c4a04f22aad179654d1\n",
            "Successfully built pathtools subprocess32\n",
            "Installing collected packages: configparser, shortuuid, sentry-sdk, pathtools, docker-pycreds, subprocess32, smmap, gitdb, GitPython, wandb\n",
            "Successfully installed GitPython-3.1.14 configparser-5.0.2 docker-pycreds-0.4.0 gitdb-4.0.7 pathtools-0.1.2 sentry-sdk-1.0.0 shortuuid-1.0.1 smmap-4.0.0 subprocess32-3.5.4 wandb-0.10.24\n"
          ],
          "name": "stdout"
        }
      ]
    },
    {
      "cell_type": "code",
      "metadata": {
        "id": "SQNWmfIgMN1n",
        "colab": {
          "base_uri": "https://localhost:8080/"
        },
        "outputId": "215b6a5f-8ae5-4dd9-caa6-48982dc9081a"
      },
      "source": [
        "import wandb\n",
        "wandb.login(key='44f4774b01085df4610534309a809d870c5c575f')"
      ],
      "execution_count": null,
      "outputs": [
        {
          "output_type": "stream",
          "text": [
            "\u001b[34m\u001b[1mwandb\u001b[0m: Currently logged in as: \u001b[33mtphuc\u001b[0m (use `wandb login --relogin` to force relogin)\n",
            "\u001b[34m\u001b[1mwandb\u001b[0m: \u001b[33mWARNING\u001b[0m If you're specifying your api key in code, ensure this code is not shared publically.\n",
            "\u001b[34m\u001b[1mwandb\u001b[0m: \u001b[33mWARNING\u001b[0m Consider setting the WANDB_API_KEY environment variable, or running `wandb login` from the command line.\n",
            "\u001b[34m\u001b[1mwandb\u001b[0m: Appending key for api.wandb.ai to your netrc file: /root/.netrc\n"
          ],
          "name": "stderr"
        },
        {
          "output_type": "execute_result",
          "data": {
            "text/plain": [
              "True"
            ]
          },
          "metadata": {
            "tags": []
          },
          "execution_count": 13
        }
      ]
    },
    {
      "cell_type": "code",
      "metadata": {
        "id": "4EXb6enlDKGJ"
      },
      "source": [
        "!python train.py --img 640 --batch 16 --epochs 15 --data /content/config.yaml --weights yolov5x.pt"
      ],
      "execution_count": null,
      "outputs": []
    },
    {
      "cell_type": "code",
      "metadata": {
        "id": "JDO9VWSnTLzc",
        "colab": {
          "base_uri": "https://localhost:8080/"
        },
        "outputId": "2d6432e0-b643-4eff-8563-a76a302bc3bd"
      },
      "source": [
        "!python train.py --resume"
      ],
      "execution_count": null,
      "outputs": [
        {
          "output_type": "stream",
          "text": [
            "\u001b[34m\u001b[1mgithub: \u001b[0m⚠️ WARNING: code is out of date by 16 commits. Use 'git pull' to update or 'git clone https://github.com/ultralytics/yolov5' to download latest.\n",
            "Resuming training from ./runs/train/exp/weights/last.pt\n",
            "YOLOv5 🚀 2021-3-29 torch 1.8.1+cu101 CUDA:0 (Tesla T4, 15109.75MB)\n",
            "\n",
            "Namespace(adam=False, artifact_alias='latest', batch_size=16, bbox_interval=-1, bucket='', cache_images=False, cfg='', data='/content/config.yaml', device='', entity=None, epochs=200, evolve=False, exist_ok=False, global_rank=-1, hyp='data/hyp.scratch.yaml', image_weights=False, img_size=[640, 640], linear_lr=False, local_rank=-1, multi_scale=False, name='exp', noautoanchor=False, nosave=False, notest=False, project='runs/train', quad=False, rect=False, resume=True, save_dir='runs/train/exp', save_period=-1, single_cls=False, sync_bn=False, total_batch_size=16, upload_dataset=False, weights='./runs/train/exp/weights/last.pt', workers=8, world_size=1)\n",
            "\u001b[34m\u001b[1mtensorboard: \u001b[0mStart with 'tensorboard --logdir runs/train', view at http://localhost:6006/\n",
            "2021-04-02 14:33:26.711108: I tensorflow/stream_executor/platform/default/dso_loader.cc:49] Successfully opened dynamic library libcudart.so.11.0\n",
            "\u001b[34m\u001b[1mhyperparameters: \u001b[0mlr0=0.01, lrf=0.2, momentum=0.937, weight_decay=0.0005, warmup_epochs=3.0, warmup_momentum=0.8, warmup_bias_lr=0.1, box=0.05, cls=0.5, cls_pw=1.0, obj=1.0, obj_pw=1.0, iou_t=0.2, anchor_t=4.0, fl_gamma=0.0, hsv_h=0.015, hsv_s=0.7, hsv_v=0.4, degrees=0.0, translate=0.1, scale=0.5, shear=0.0, perspective=0.0, flipud=0.0, fliplr=0.5, mosaic=1.0, mixup=0.0\n",
            "\u001b[34m\u001b[1mwandb\u001b[0m: Currently logged in as: \u001b[33mtphuc\u001b[0m (use `wandb login --relogin` to force relogin)\n",
            "2021-04-02 14:33:50.409640: I tensorflow/stream_executor/platform/default/dso_loader.cc:49] Successfully opened dynamic library libcudart.so.11.0\n",
            "\u001b[34m\u001b[1mwandb\u001b[0m: Tracking run with wandb version 0.10.24\n",
            "\u001b[34m\u001b[1mwandb\u001b[0m: Resuming run \u001b[33mexp\u001b[0m\n",
            "\u001b[34m\u001b[1mwandb\u001b[0m: ⭐️ View project at \u001b[34m\u001b[4mhttps://wandb.ai/tphuc/YOLOv5\u001b[0m\n",
            "\u001b[34m\u001b[1mwandb\u001b[0m: 🚀 View run at \u001b[34m\u001b[4mhttps://wandb.ai/tphuc/YOLOv5/runs/vt68pcum\u001b[0m\n",
            "\u001b[34m\u001b[1mwandb\u001b[0m: Run data is saved locally in /content/drive/My Drive/yolo200/yolov5/wandb/run-20210402_143349-vt68pcum\n",
            "\u001b[34m\u001b[1mwandb\u001b[0m: Run `wandb offline` to turn off syncing.\n",
            "\n",
            "\n",
            "                 from  n    params  module                                  arguments                     \n",
            "  0                -1  1      8800  models.common.Focus                     [3, 80, 3]                    \n",
            "  1                -1  1    115520  models.common.Conv                      [80, 160, 3, 2]               \n",
            "  2                -1  1    309120  models.common.C3                        [160, 160, 4]                 \n",
            "  3                -1  1    461440  models.common.Conv                      [160, 320, 3, 2]              \n",
            "  4                -1  1   3285760  models.common.C3                        [320, 320, 12]                \n",
            "  5                -1  1   1844480  models.common.Conv                      [320, 640, 3, 2]              \n",
            "  6                -1  1  13125120  models.common.C3                        [640, 640, 12]                \n",
            "  7                -1  1   7375360  models.common.Conv                      [640, 1280, 3, 2]             \n",
            "  8                -1  1   4099840  models.common.SPP                       [1280, 1280, [5, 9, 13]]      \n",
            "  9                -1  1  19676160  models.common.C3                        [1280, 1280, 4, False]        \n",
            " 10                -1  1    820480  models.common.Conv                      [1280, 640, 1, 1]             \n",
            " 11                -1  1         0  torch.nn.modules.upsampling.Upsample    [None, 2, 'nearest']          \n",
            " 12           [-1, 6]  1         0  models.common.Concat                    [1]                           \n",
            " 13                -1  1   5332480  models.common.C3                        [1280, 640, 4, False]         \n",
            " 14                -1  1    205440  models.common.Conv                      [640, 320, 1, 1]              \n",
            " 15                -1  1         0  torch.nn.modules.upsampling.Upsample    [None, 2, 'nearest']          \n",
            " 16           [-1, 4]  1         0  models.common.Concat                    [1]                           \n",
            " 17                -1  1   1335040  models.common.C3                        [640, 320, 4, False]          \n",
            " 18                -1  1    922240  models.common.Conv                      [320, 320, 3, 2]              \n",
            " 19          [-1, 14]  1         0  models.common.Concat                    [1]                           \n",
            " 20                -1  1   4922880  models.common.C3                        [640, 640, 4, False]          \n",
            " 21                -1  1   3687680  models.common.Conv                      [640, 640, 3, 2]              \n",
            " 22          [-1, 10]  1         0  models.common.Concat                    [1]                           \n",
            " 23                -1  1  19676160  models.common.C3                        [1280, 1280, 4, False]        \n",
            " 24      [17, 20, 23]  1    141309  models.yolo.Detect                      [16, [[10, 13, 16, 30, 33, 23], [30, 61, 62, 45, 59, 119], [116, 90, 156, 198, 373, 326]], [320, 640, 1280]]\n",
            "Model Summary: 607 layers, 87345309 parameters, 87345309 gradients, 217.6 GFLOPS\n",
            "\n",
            "Transferred 794/794 items from ./runs/train/exp/weights/last.pt\n",
            "Scaled weight_decay = 0.0005\n",
            "Optimizer groups: 134 .bias, 134 conv.weight, 131 other\n",
            "\u001b[34m\u001b[1mtrain: \u001b[0mScanning '/content/train.cache' images and labels... 14828 found, 0 missi\u001b[0m\n",
            "\u001b[34m\u001b[1mval: \u001b[0mScanning '/content/val.cache' images and labels... 7832 found, 0 missing, 0\u001b[0m\n",
            "Image sizes 640 train, 640 test\n",
            "Using 2 dataloader workers\n",
            "Logging results to runs/train/exp\n",
            "Starting training for 200 epochs...\n",
            "\n",
            "     Epoch   gpu_mem       box       obj       cls     total    labels  img_size\n",
            "   188/199     13.5G   0.01802  0.006056  0.009531   0.03361        55       640\n",
            "               Class      Images      Labels           P           R      mAP@.5\n",
            "                 all        7832       25767       0.887       0.894       0.938       0.687\n",
            "\n",
            "     Epoch   gpu_mem       box       obj       cls     total    labels  img_size\n",
            "   189/199     13.7G   0.01776  0.006011  0.009227     0.033        88       640\n",
            "               Class      Images      Labels           P           R      mAP@.5\n",
            "                 all        7832       25767       0.891       0.891       0.939       0.689\n",
            "\n",
            "     Epoch   gpu_mem       box       obj       cls     total    labels  img_size\n",
            "   190/199     13.7G   0.01764  0.005879  0.009365   0.03288        58       640\n",
            "               Class      Images      Labels           P           R      mAP@.5\n",
            "                 all        7832       25767       0.888       0.895       0.939       0.691\n",
            "\n",
            "     Epoch   gpu_mem       box       obj       cls     total    labels  img_size\n",
            "   191/199     13.7G   0.01791  0.006012  0.009667   0.03359        67       640\n",
            "               Class      Images      Labels           P           R      mAP@.5\n",
            "                 all        7832       25767       0.895       0.889       0.939       0.692\n",
            "\n",
            "     Epoch   gpu_mem       box       obj       cls     total    labels  img_size\n",
            "   192/199     13.7G   0.01788  0.005972  0.009351    0.0332        78       640\n",
            "               Class      Images      Labels           P           R      mAP@.5\n",
            "                 all        7832       25767       0.891       0.896        0.94       0.694\n",
            "\n",
            "     Epoch   gpu_mem       box       obj       cls     total    labels  img_size\n",
            "   193/199     13.7G   0.01768  0.005929  0.009263   0.03287        53       640\n",
            "               Class      Images      Labels           P           R      mAP@.5\n",
            "                 all        7832       25767       0.891       0.898       0.941       0.695\n",
            "\n",
            "     Epoch   gpu_mem       box       obj       cls     total    labels  img_size\n",
            "   194/199     13.7G   0.01772  0.005952  0.009275   0.03294        67       640\n",
            "               Class      Images      Labels           P           R      mAP@.5\n",
            "                 all        7832       25767       0.892       0.899       0.942       0.697\n",
            "\n",
            "     Epoch   gpu_mem       box       obj       cls     total    labels  img_size\n",
            "   195/199     13.7G   0.01783  0.005995  0.009445   0.03327        60       640\n",
            "               Class      Images      Labels           P           R      mAP@.5\n",
            "                 all        7832       25767       0.896       0.895       0.943       0.698\n",
            "\n",
            "     Epoch   gpu_mem       box       obj       cls     total    labels  img_size\n",
            "   196/199     13.7G   0.02072   0.00826   0.01092    0.0399        73       640\u001b[34m\u001b[1mwandb\u001b[0m: Network error (ReadTimeout), entering retry loop. See wandb/debug-internal.log for full traceback.\n",
            "   196/199     13.7G   0.02072  0.008241   0.01094    0.0399        88       640\u001b[34m\u001b[1mwandb\u001b[0m: Network error resolved after 0:01:02.762135, resuming normal operation.\n",
            "   196/199     13.7G   0.02073  0.008241   0.01096   0.03994        70       640\n",
            "               Class      Images      Labels           P           R      mAP@.5\u001b[34m\u001b[1mwandb\u001b[0m: Network error (ReadTimeout), entering retry loop. See wandb/debug-internal.log for full traceback.\n",
            "               Class      Images      Labels           P           R      mAP@.5\u001b[34m\u001b[1mwandb\u001b[0m: Network error resolved after 0:02:18.022963, resuming normal operation.\n",
            "               Class      Images      Labels           P           R      mAP@.5\n",
            "                 all        7832       25767       0.895       0.898       0.943         0.7\n",
            "\n",
            "     Epoch   gpu_mem       box       obj       cls     total    labels  img_size\n",
            "   197/199     13.7G   0.02139  0.008473   0.01098   0.04085        66       640\n",
            "               Class      Images      Labels           P           R      mAP@.5\n",
            "                 all        7832       25767       0.895         0.9       0.944       0.702\n",
            "\n",
            "     Epoch   gpu_mem       box       obj       cls     total    labels  img_size\n",
            "   198/199     13.7G   0.02121   0.00842     0.011   0.04063        45       640\n",
            "               Class      Images      Labels           P           R      mAP@.5\n",
            "                 all        7832       25767       0.896         0.9       0.944       0.703\n",
            "\n",
            "     Epoch   gpu_mem       box       obj       cls     total    labels  img_size\n",
            "   199/199     13.7G   0.02132  0.008332   0.01107   0.04071        75       640\n",
            "               Class      Images      Labels           P           R      mAP@.5\n",
            "                 all        7832       25767       0.894       0.904       0.945       0.705\n",
            "  Aortic enlargement        7832        1986       0.931       0.951       0.977       0.789\n",
            "         Atelectasis        7832         202       0.893       0.865       0.934       0.631\n",
            "       Calcification        7832         608       0.805        0.93       0.939       0.664\n",
            "        Cardiomegaly        7832        1317       0.812       0.962       0.966       0.777\n",
            "       Consolidation        7832         362       0.938       0.871       0.966       0.712\n",
            "                 ILD        7832         573       0.922       0.901       0.962       0.707\n",
            "        Infiltration        7832         768       0.921       0.902       0.965        0.68\n",
            "        Lung Opacity        7832        1634       0.923       0.906       0.959       0.688\n",
            "         Nodule/Mass        7832        1605       0.831       0.903       0.913       0.601\n",
            "        Other lesion        7832        1477       0.876       0.887       0.941       0.667\n",
            "    Pleural effusion        7832        1431       0.879       0.828       0.902       0.588\n",
            "  Pleural thickening        7832        3177       0.862       0.821       0.882       0.566\n",
            "        Pneumothorax        7832         109       0.837       0.862       0.896         0.7\n",
            "  Pulmonary fibrosis        7832        2686       0.892       0.875        0.93        0.63\n",
            "          No finding        7832        5186       0.992           1       0.995       0.927\n",
            "             Finding        7832        2646       0.988       0.995       0.996       0.954\n",
            "12 epochs completed in 5.004 hours.\n",
            "\n",
            "Optimizer stripped from runs/train/exp/weights/last.pt, 175.3MB\n",
            "Optimizer stripped from runs/train/exp/weights/best.pt, 175.3MB\n",
            "Images sizes do not match. This will causes images to be display incorrectly in the UI.\n",
            "\n",
            "\u001b[34m\u001b[1mwandb\u001b[0m: Waiting for W&B process to finish, PID 547\n",
            "\u001b[34m\u001b[1mwandb\u001b[0m: Program ended successfully.\n",
            "\u001b[34m\u001b[1mwandb\u001b[0m:                                                                                \n",
            "\u001b[34m\u001b[1mwandb\u001b[0m: Find user logs for this run at: /content/drive/My Drive/yolo200/yolov5/wandb/run-20210402_143349-vt68pcum/logs/debug.log\n",
            "\u001b[34m\u001b[1mwandb\u001b[0m: Find internal logs for this run at: /content/drive/My Drive/yolo200/yolov5/wandb/run-20210402_143349-vt68pcum/logs/debug-internal.log\n",
            "\u001b[34m\u001b[1mwandb\u001b[0m: Run summary:\n",
            "\u001b[34m\u001b[1mwandb\u001b[0m:                       _runtime 303683\n",
            "\u001b[34m\u001b[1mwandb\u001b[0m:                metrics/mAP_0.5 0.94516\n",
            "\u001b[34m\u001b[1mwandb\u001b[0m:           metrics/mAP_0.5:0.95 0.70511\n",
            "\u001b[34m\u001b[1mwandb\u001b[0m:                          x/lr0 0.002\n",
            "\u001b[34m\u001b[1mwandb\u001b[0m:                   val/box_loss 0.0245\n",
            "\u001b[34m\u001b[1mwandb\u001b[0m:                 train/box_loss 0.02132\n",
            "\u001b[34m\u001b[1mwandb\u001b[0m:                 metrics/recall 0.90379\n",
            "\u001b[34m\u001b[1mwandb\u001b[0m:                 train/obj_loss 0.00833\n",
            "\u001b[34m\u001b[1mwandb\u001b[0m:                          _step 195\n",
            "\u001b[34m\u001b[1mwandb\u001b[0m:                          x/lr1 0.002\n",
            "\u001b[34m\u001b[1mwandb\u001b[0m:                     _timestamp 1617392061\n",
            "\u001b[34m\u001b[1mwandb\u001b[0m:                   val/obj_loss 0.00893\n",
            "\u001b[34m\u001b[1mwandb\u001b[0m:                          x/lr2 0.002\n",
            "\u001b[34m\u001b[1mwandb\u001b[0m:                   val/cls_loss 0.01397\n",
            "\u001b[34m\u001b[1mwandb\u001b[0m:                 train/cls_loss 0.01107\n",
            "\u001b[34m\u001b[1mwandb\u001b[0m:              metrics/precision 0.89372\n",
            "\u001b[34m\u001b[1mwandb\u001b[0m: Run history:\n",
            "\u001b[34m\u001b[1mwandb\u001b[0m:         train/box_loss ▂▁▁▂▁▁▁▁▇███\n",
            "\u001b[34m\u001b[1mwandb\u001b[0m:         train/obj_loss ▁▁▁▁▁▁▁▁▇███\n",
            "\u001b[34m\u001b[1mwandb\u001b[0m:         train/cls_loss ▂▁▂▃▁▁▁▂████\n",
            "\u001b[34m\u001b[1mwandb\u001b[0m:      metrics/precision ▁▄▂▇▄▅▅█▇▇█▆\n",
            "\u001b[34m\u001b[1mwandb\u001b[0m:         metrics/recall ▃▂▄▁▄▅▆▄▅▆▆█\n",
            "\u001b[34m\u001b[1mwandb\u001b[0m:        metrics/mAP_0.5 ▁▂▂▃▄▄▅▆▆▇▇█\n",
            "\u001b[34m\u001b[1mwandb\u001b[0m:   metrics/mAP_0.5:0.95 ▁▂▂▃▄▄▅▅▆▇▇█\n",
            "\u001b[34m\u001b[1mwandb\u001b[0m:           val/box_loss █▇▇▆▅▅▄▄▃▂▂▁\n",
            "\u001b[34m\u001b[1mwandb\u001b[0m:           val/obj_loss █▇▆▆▅▄▄▃▂▂▁▁\n",
            "\u001b[34m\u001b[1mwandb\u001b[0m:           val/cls_loss █▇▇▆▅▅▄▃▃▂▂▁\n",
            "\u001b[34m\u001b[1mwandb\u001b[0m:                  x/lr0 █▇▆▅▄▄▃▂▂▂▁▁\n",
            "\u001b[34m\u001b[1mwandb\u001b[0m:                  x/lr1 █▇▆▅▄▄▃▂▂▂▁▁\n",
            "\u001b[34m\u001b[1mwandb\u001b[0m:                  x/lr2 █▇▆▅▄▄▃▂▂▂▁▁\n",
            "\u001b[34m\u001b[1mwandb\u001b[0m:               _runtime ▁▂▂▃▄▄▅▅▆▇▇██\n",
            "\u001b[34m\u001b[1mwandb\u001b[0m:             _timestamp ▁▂▂▃▄▄▅▅▆▇▇██\n",
            "\u001b[34m\u001b[1mwandb\u001b[0m:                  _step ▁▂▂▃▃▄▅▅▆▆▇▇█\n",
            "\u001b[34m\u001b[1mwandb\u001b[0m: \n",
            "\u001b[34m\u001b[1mwandb\u001b[0m: Synced 5 W&B file(s), 44 media file(s), 1 artifact file(s) and 0 other file(s)\n",
            "\u001b[34m\u001b[1mwandb\u001b[0m: \n",
            "\u001b[34m\u001b[1mwandb\u001b[0m: Synced \u001b[33mexp\u001b[0m: \u001b[34mhttps://wandb.ai/tphuc/YOLOv5/runs/vt68pcum\u001b[0m\n"
          ],
          "name": "stdout"
        }
      ]
    },
    {
      "cell_type": "code",
      "metadata": {
        "id": "mtbUEsf00eB3",
        "colab": {
          "base_uri": "https://localhost:8080/"
        },
        "outputId": "a9792e97-f499-4f43-f346-6dcfcdfd78a4"
      },
      "source": [
        "!zip -r /content/xray200.zip /content/drive/MyDrive/yolo200/yolov5/runs/train/"
      ],
      "execution_count": null,
      "outputs": [
        {
          "output_type": "stream",
          "text": [
            "  adding: content/drive/MyDrive/yolo200/yolov5/runs/train/ (stored 0%)\n",
            "  adding: content/drive/MyDrive/yolo200/yolov5/runs/train/exp/ (stored 0%)\n",
            "  adding: content/drive/MyDrive/yolo200/yolov5/runs/train/exp/weights/ (stored 0%)\n",
            "  adding: content/drive/MyDrive/yolo200/yolov5/runs/train/exp/weights/last.pt (deflated 8%)\n",
            "  adding: content/drive/MyDrive/yolo200/yolov5/runs/train/exp/weights/best.pt (deflated 8%)\n",
            "  adding: content/drive/MyDrive/yolo200/yolov5/runs/train/exp/labels_correlogram.jpg (deflated 34%)\n",
            "  adding: content/drive/MyDrive/yolo200/yolov5/runs/train/exp/labels.jpg (deflated 21%)\n",
            "  adding: content/drive/MyDrive/yolo200/yolov5/runs/train/exp/train_batch0.jpg (deflated 4%)\n",
            "  adding: content/drive/MyDrive/yolo200/yolov5/runs/train/exp/train_batch1.jpg (deflated 3%)\n",
            "  adding: content/drive/MyDrive/yolo200/yolov5/runs/train/exp/train_batch2.jpg (deflated 3%)\n",
            "  adding: content/drive/MyDrive/yolo200/yolov5/runs/train/exp/events.out.tfevents.1616983319.baf2cadce8df.570.0 (deflated 63%)\n",
            "  adding: content/drive/MyDrive/yolo200/yolov5/runs/train/exp/events.out.tfevents.1617023685.5e4a6847c219.481.0 (deflated 5%)\n",
            "  adding: content/drive/MyDrive/yolo200/yolov5/runs/train/exp/events.out.tfevents.1617025456.042381f5bb1a.398.0 (deflated 65%)\n",
            "  adding: content/drive/MyDrive/yolo200/yolov5/runs/train/exp/events.out.tfevents.1617058519.e8e5283cfe32.501.0 (deflated 66%)\n",
            "  adding: content/drive/MyDrive/yolo200/yolov5/runs/train/exp/events.out.tfevents.1617076487.f4f2c59e3491.498.0 (deflated 5%)\n",
            "  adding: content/drive/MyDrive/yolo200/yolov5/runs/train/exp/events.out.tfevents.1617090720.defd63c84894.630.0 (deflated 69%)\n",
            "  adding: content/drive/MyDrive/yolo200/yolov5/runs/train/exp/events.out.tfevents.1617151063.3a214cb9022c.515.0 (deflated 66%)\n",
            "  adding: content/drive/MyDrive/yolo200/yolov5/runs/train/exp/events.out.tfevents.1617166007.3bd4555ea33c.517.0 (deflated 69%)\n",
            "  adding: content/drive/MyDrive/yolo200/yolov5/runs/train/exp/events.out.tfevents.1617202271.538d528bfe15.686.0 (deflated 66%)\n",
            "  adding: content/drive/MyDrive/yolo200/yolov5/runs/train/exp/events.out.tfevents.1617232085.5068b002cb52.505.0 (deflated 66%)\n",
            "  adding: content/drive/MyDrive/yolo200/yolov5/runs/train/exp/events.out.tfevents.1617252878.2bb11a38e2ec.540.0 (deflated 55%)\n",
            "  adding: content/drive/MyDrive/yolo200/yolov5/runs/train/exp/events.out.tfevents.1617258478.ed4286a03b80.476.0 (deflated 68%)\n",
            "  adding: content/drive/MyDrive/yolo200/yolov5/runs/train/exp/events.out.tfevents.1617293821.1f4959b170d6.496.0 (deflated 5%)\n",
            "  adding: content/drive/MyDrive/yolo200/yolov5/runs/train/exp/events.out.tfevents.1617294243.1f4959b170d6.730.0 (deflated 5%)\n",
            "  adding: content/drive/MyDrive/yolo200/yolov5/runs/train/exp/events.out.tfevents.1617295068.5597031c5760.552.0 (deflated 69%)\n",
            "  adding: content/drive/MyDrive/yolo200/yolov5/runs/train/exp/events.out.tfevents.1617329573.a11c58a364e6.523.0 (deflated 66%)\n",
            "  adding: content/drive/MyDrive/yolo200/yolov5/runs/train/exp/events.out.tfevents.1617344066.168baa80305b.484.0 (deflated 66%)\n",
            "  adding: content/drive/MyDrive/yolo200/yolov5/runs/train/exp/events.out.tfevents.1617359447.d02e9feaf933.538.0 (deflated 66%)\n",
            "  adding: content/drive/MyDrive/yolo200/yolov5/runs/train/exp/events.out.tfevents.1617372930.4b58d91a58d7.500.0 (deflated 5%)\n",
            "  adding: content/drive/MyDrive/yolo200/yolov5/runs/train/exp/hyp.yaml (deflated 44%)\n",
            "  adding: content/drive/MyDrive/yolo200/yolov5/runs/train/exp/opt.yaml (deflated 47%)\n",
            "  adding: content/drive/MyDrive/yolo200/yolov5/runs/train/exp/test_batch0_labels.jpg (deflated 10%)\n",
            "  adding: content/drive/MyDrive/yolo200/yolov5/runs/train/exp/test_batch0_pred.jpg (deflated 5%)\n",
            "  adding: content/drive/MyDrive/yolo200/yolov5/runs/train/exp/test_batch1_pred.jpg (deflated 5%)\n",
            "  adding: content/drive/MyDrive/yolo200/yolov5/runs/train/exp/test_batch1_labels.jpg (deflated 9%)\n",
            "  adding: content/drive/MyDrive/yolo200/yolov5/runs/train/exp/test_batch2_labels.jpg (deflated 9%)\n",
            "  adding: content/drive/MyDrive/yolo200/yolov5/runs/train/exp/test_batch2_pred.jpg (deflated 5%)\n",
            "  adding: content/drive/MyDrive/yolo200/yolov5/runs/train/exp/PR_curve.png (deflated 8%)\n",
            "  adding: content/drive/MyDrive/yolo200/yolov5/runs/train/exp/F1_curve.png (deflated 3%)\n",
            "  adding: content/drive/MyDrive/yolo200/yolov5/runs/train/exp/P_curve.png (deflated 7%)\n",
            "  adding: content/drive/MyDrive/yolo200/yolov5/runs/train/exp/R_curve.png (deflated 3%)\n",
            "  adding: content/drive/MyDrive/yolo200/yolov5/runs/train/exp/confusion_matrix.png (deflated 12%)\n",
            "  adding: content/drive/MyDrive/yolo200/yolov5/runs/train/exp/results.txt (deflated 75%)\n",
            "  adding: content/drive/MyDrive/yolo200/yolov5/runs/train/exp/results.png (deflated 9%)\n",
            "  adding: content/drive/MyDrive/yolo200/yolov5/runs/train/exp/events.out.tfevents.1617374009.37802ad0eb0f.497.0 (deflated 68%)\n"
          ],
          "name": "stdout"
        }
      ]
    },
    {
      "cell_type": "code",
      "metadata": {
        "id": "4mBPUMqWWaE6"
      },
      "source": [
        "!zip -r /content/vinbigdata.zip /content/vinbigdata"
      ],
      "execution_count": null,
      "outputs": []
    },
    {
      "cell_type": "code",
      "metadata": {
        "id": "I7YV5xNUWcP-",
        "colab": {
          "base_uri": "https://localhost:8080/",
          "height": 35
        },
        "outputId": "06f4824d-eea9-4a19-ecfc-09a6ffbec834"
      },
      "source": [
        "from shutil import copyfile\n",
        "#copyfile('/content/xray0803_80.zip', '/content/drive/MyDrive/new/xray0803_80.zip')\n",
        "copyfile('/content/drive/MyDrive/new/xray0803_80.zip','/content/xray0803_80.zip')"
      ],
      "execution_count": null,
      "outputs": [
        {
          "output_type": "execute_result",
          "data": {
            "application/vnd.google.colaboratory.intrinsic+json": {
              "type": "string"
            },
            "text/plain": [
              "'/content/xray0803_80.zip'"
            ]
          },
          "metadata": {
            "tags": []
          },
          "execution_count": 14
        }
      ]
    },
    {
      "cell_type": "code",
      "metadata": {
        "id": "DQJFpn5Sh608",
        "colab": {
          "base_uri": "https://localhost:8080/",
          "height": 35
        },
        "outputId": "6873462e-e6f1-422e-e0ef-e0491c1e7d34"
      },
      "source": [
        "from shutil import copyfile\n",
        "copyfile('/content/xray200.zip', '/content/drive/MyDrive/xray200.zip')\n",
        "#copyfile('/content/drive/MyDrive/new/xray0803_95.zip','/content/xray0803_95.zip')"
      ],
      "execution_count": null,
      "outputs": [
        {
          "output_type": "execute_result",
          "data": {
            "application/vnd.google.colaboratory.intrinsic+json": {
              "type": "string"
            },
            "text/plain": [
              "'/content/drive/MyDrive/xray200.zip'"
            ]
          },
          "metadata": {
            "tags": []
          },
          "execution_count": 7
        }
      ]
    },
    {
      "cell_type": "code",
      "metadata": {
        "colab": {
          "base_uri": "https://localhost:8080/",
          "height": 35
        },
        "id": "0OJXsWd9j1Qg",
        "outputId": "1c1058a2-1061-4e95-b246-b86d1e5aa99a"
      },
      "source": [
        "pwd"
      ],
      "execution_count": null,
      "outputs": [
        {
          "output_type": "execute_result",
          "data": {
            "application/vnd.google.colaboratory.intrinsic+json": {
              "type": "string"
            },
            "text/plain": [
              "'/content/drive/My Drive/yolo200/yolov5'"
            ]
          },
          "metadata": {
            "tags": []
          },
          "execution_count": 4
        }
      ]
    },
    {
      "cell_type": "code",
      "metadata": {
        "colab": {
          "base_uri": "https://localhost:8080/"
        },
        "id": "pVxBbym74bAy",
        "outputId": "2464f34e-4629-4c16-ce9b-7cf995e0fc48"
      },
      "source": [
        "ls"
      ],
      "execution_count": null,
      "outputs": [
        {
          "output_type": "stream",
          "text": [
            "\u001b[0m\u001b[01;34mdata\u001b[0m/       hubconf.py  \u001b[01;34m__pycache__\u001b[0m/      \u001b[01;34mruns\u001b[0m/     tutorial.ipynb  \u001b[01;34mweights\u001b[0m/\n",
            "detect.py   LICENSE     README.md         test.py   \u001b[01;34mutils\u001b[0m/          yolov5x.pt\n",
            "Dockerfile  \u001b[01;34mmodels\u001b[0m/     requirements.txt  train.py  \u001b[01;34mwandb\u001b[0m/\n"
          ],
          "name": "stdout"
        }
      ]
    },
    {
      "cell_type": "code",
      "metadata": {
        "colab": {
          "base_uri": "https://localhost:8080/"
        },
        "id": "-ABdnYn75Xdd",
        "outputId": "6a246d77-9023-4368-e2df-f17fc2a5d5a1"
      },
      "source": [
        "cd /content/drive/MyDrive/yolo200/yolov5/runs/train/exp/"
      ],
      "execution_count": null,
      "outputs": [
        {
          "output_type": "stream",
          "text": [
            "/content\n"
          ],
          "name": "stdout"
        }
      ]
    },
    {
      "cell_type": "code",
      "metadata": {
        "id": "nSIudlpKbEy2"
      },
      "source": [
        "!unzip -q xray0803_95.zip"
      ],
      "execution_count": null,
      "outputs": []
    },
    {
      "cell_type": "code",
      "metadata": {
        "colab": {
          "base_uri": "https://localhost:8080/"
        },
        "id": "GMvP9tUGyeRU",
        "outputId": "19732ffd-c0b7-46a6-a9ef-63fdcfa5e454"
      },
      "source": [
        "!git clone https://github.com/ultralytics/yolov5.git"
      ],
      "execution_count": null,
      "outputs": [
        {
          "output_type": "stream",
          "text": [
            "Cloning into 'yolov5'...\n",
            "remote: Enumerating objects: 6294, done.\u001b[K\n",
            "remote: Counting objects: 100% (89/89), done.\u001b[K\n",
            "remote: Compressing objects: 100% (65/65), done.\u001b[K\n",
            "remote: Total 6294 (delta 41), reused 59 (delta 24), pack-reused 6205\u001b[K\n",
            "Receiving objects: 100% (6294/6294), 8.54 MiB | 29.95 MiB/s, done.\n",
            "Resolving deltas: 100% (4300/4300), done.\n"
          ],
          "name": "stdout"
        }
      ]
    },
    {
      "cell_type": "code",
      "metadata": {
        "colab": {
          "base_uri": "https://localhost:8080/"
        },
        "id": "Eqg6Vj2byf8h",
        "outputId": "5f4407a5-b84d-496a-815b-dc612f8b79cb"
      },
      "source": [
        "cd yolov5/"
      ],
      "execution_count": null,
      "outputs": [
        {
          "output_type": "stream",
          "text": [
            "/content/yolov5\n"
          ],
          "name": "stdout"
        }
      ]
    },
    {
      "cell_type": "code",
      "metadata": {
        "colab": {
          "base_uri": "https://localhost:8080/"
        },
        "id": "oMLTcfvRyhl_",
        "outputId": "f6b65848-a2bb-494b-ae0c-e73ade99d17e"
      },
      "source": [
        "!pip install -qr requirements.txt"
      ],
      "execution_count": null,
      "outputs": [
        {
          "output_type": "stream",
          "text": [
            "\u001b[?25l\r\u001b[K     |▌                               | 10kB 27.2MB/s eta 0:00:01\r\u001b[K     |█                               | 20kB 33.8MB/s eta 0:00:01\r\u001b[K     |█▌                              | 30kB 37.7MB/s eta 0:00:01\r\u001b[K     |██                              | 40kB 33.5MB/s eta 0:00:01\r\u001b[K     |██▋                             | 51kB 33.7MB/s eta 0:00:01\r\u001b[K     |███                             | 61kB 35.6MB/s eta 0:00:01\r\u001b[K     |███▋                            | 71kB 27.3MB/s eta 0:00:01\r\u001b[K     |████▏                           | 81kB 26.3MB/s eta 0:00:01\r\u001b[K     |████▋                           | 92kB 27.8MB/s eta 0:00:01\r\u001b[K     |█████▏                          | 102kB 26.7MB/s eta 0:00:01\r\u001b[K     |█████▋                          | 112kB 26.7MB/s eta 0:00:01\r\u001b[K     |██████▏                         | 122kB 26.7MB/s eta 0:00:01\r\u001b[K     |██████▊                         | 133kB 26.7MB/s eta 0:00:01\r\u001b[K     |███████▏                        | 143kB 26.7MB/s eta 0:00:01\r\u001b[K     |███████▊                        | 153kB 26.7MB/s eta 0:00:01\r\u001b[K     |████████▎                       | 163kB 26.7MB/s eta 0:00:01\r\u001b[K     |████████▊                       | 174kB 26.7MB/s eta 0:00:01\r\u001b[K     |█████████▎                      | 184kB 26.7MB/s eta 0:00:01\r\u001b[K     |█████████▉                      | 194kB 26.7MB/s eta 0:00:01\r\u001b[K     |██████████▎                     | 204kB 26.7MB/s eta 0:00:01\r\u001b[K     |██████████▉                     | 215kB 26.7MB/s eta 0:00:01\r\u001b[K     |███████████▎                    | 225kB 26.7MB/s eta 0:00:01\r\u001b[K     |███████████▉                    | 235kB 26.7MB/s eta 0:00:01\r\u001b[K     |████████████▍                   | 245kB 26.7MB/s eta 0:00:01\r\u001b[K     |████████████▉                   | 256kB 26.7MB/s eta 0:00:01\r\u001b[K     |█████████████▍                  | 266kB 26.7MB/s eta 0:00:01\r\u001b[K     |██████████████                  | 276kB 26.7MB/s eta 0:00:01\r\u001b[K     |██████████████▍                 | 286kB 26.7MB/s eta 0:00:01\r\u001b[K     |███████████████                 | 296kB 26.7MB/s eta 0:00:01\r\u001b[K     |███████████████▍                | 307kB 26.7MB/s eta 0:00:01\r\u001b[K     |████████████████                | 317kB 26.7MB/s eta 0:00:01\r\u001b[K     |████████████████▌               | 327kB 26.7MB/s eta 0:00:01\r\u001b[K     |█████████████████               | 337kB 26.7MB/s eta 0:00:01\r\u001b[K     |█████████████████▌              | 348kB 26.7MB/s eta 0:00:01\r\u001b[K     |██████████████████              | 358kB 26.7MB/s eta 0:00:01\r\u001b[K     |██████████████████▌             | 368kB 26.7MB/s eta 0:00:01\r\u001b[K     |███████████████████             | 378kB 26.7MB/s eta 0:00:01\r\u001b[K     |███████████████████▋            | 389kB 26.7MB/s eta 0:00:01\r\u001b[K     |████████████████████            | 399kB 26.7MB/s eta 0:00:01\r\u001b[K     |████████████████████▋           | 409kB 26.7MB/s eta 0:00:01\r\u001b[K     |█████████████████████           | 419kB 26.7MB/s eta 0:00:01\r\u001b[K     |█████████████████████▋          | 430kB 26.7MB/s eta 0:00:01\r\u001b[K     |██████████████████████▏         | 440kB 26.7MB/s eta 0:00:01\r\u001b[K     |██████████████████████▋         | 450kB 26.7MB/s eta 0:00:01\r\u001b[K     |███████████████████████▏        | 460kB 26.7MB/s eta 0:00:01\r\u001b[K     |███████████████████████▊        | 471kB 26.7MB/s eta 0:00:01\r\u001b[K     |████████████████████████▏       | 481kB 26.7MB/s eta 0:00:01\r\u001b[K     |████████████████████████▊       | 491kB 26.7MB/s eta 0:00:01\r\u001b[K     |█████████████████████████▏      | 501kB 26.7MB/s eta 0:00:01\r\u001b[K     |█████████████████████████▊      | 512kB 26.7MB/s eta 0:00:01\r\u001b[K     |██████████████████████████▎     | 522kB 26.7MB/s eta 0:00:01\r\u001b[K     |██████████████████████████▊     | 532kB 26.7MB/s eta 0:00:01\r\u001b[K     |███████████████████████████▎    | 542kB 26.7MB/s eta 0:00:01\r\u001b[K     |███████████████████████████▉    | 552kB 26.7MB/s eta 0:00:01\r\u001b[K     |████████████████████████████▎   | 563kB 26.7MB/s eta 0:00:01\r\u001b[K     |████████████████████████████▉   | 573kB 26.7MB/s eta 0:00:01\r\u001b[K     |█████████████████████████████▍  | 583kB 26.7MB/s eta 0:00:01\r\u001b[K     |█████████████████████████████▉  | 593kB 26.7MB/s eta 0:00:01\r\u001b[K     |██████████████████████████████▍ | 604kB 26.7MB/s eta 0:00:01\r\u001b[K     |██████████████████████████████▉ | 614kB 26.7MB/s eta 0:00:01\r\u001b[K     |███████████████████████████████▍| 624kB 26.7MB/s eta 0:00:01\r\u001b[K     |████████████████████████████████| 634kB 26.7MB/s eta 0:00:01\r\u001b[K     |████████████████████████████████| 645kB 26.7MB/s \n",
            "\u001b[?25h"
          ],
          "name": "stdout"
        }
      ]
    },
    {
      "cell_type": "code",
      "metadata": {
        "colab": {
          "base_uri": "https://localhost:8080/"
        },
        "id": "TLMCvaUPyjzl",
        "outputId": "ea0aa234-6cf8-4091-a99e-c221b2a3f06f"
      },
      "source": [
        "!python train.py --img 640 --batch 16 --epochs 20 --data /content/config.yaml --weights yolov5x.pt"
      ],
      "execution_count": null,
      "outputs": [
        {
          "output_type": "stream",
          "text": [
            "\u001b[34m\u001b[1mgithub: \u001b[0mup to date with https://github.com/ultralytics/yolov5 ✅\n",
            "YOLOv5 🚀 v5.0-91-g17b0f71 torch 1.8.1+cu101 CUDA:0 (Tesla T4, 15109.75MB)\n",
            "\n",
            "Namespace(adam=False, artifact_alias='latest', batch_size=16, bbox_interval=-1, bucket='', cache_images=False, cfg='', data='/content/config.yaml', device='', entity=None, epochs=20, evolve=False, exist_ok=False, global_rank=-1, hyp='data/hyp.scratch.yaml', image_weights=False, img_size=[640, 640], label_smoothing=0.0, linear_lr=False, local_rank=-1, multi_scale=False, name='exp', noautoanchor=False, nosave=False, notest=False, project='runs/train', quad=False, rect=False, resume=False, save_dir='runs/train/exp', save_period=-1, single_cls=False, sync_bn=False, total_batch_size=16, upload_dataset=False, weights='yolov5x.pt', workers=8, world_size=1)\n",
            "\u001b[34m\u001b[1mtensorboard: \u001b[0mStart with 'tensorboard --logdir runs/train', view at http://localhost:6006/\n",
            "2021-05-16 01:28:57.000881: I tensorflow/stream_executor/platform/default/dso_loader.cc:49] Successfully opened dynamic library libcudart.so.11.0\n",
            "\u001b[34m\u001b[1mhyperparameters: \u001b[0mlr0=0.01, lrf=0.2, momentum=0.937, weight_decay=0.0005, warmup_epochs=3.0, warmup_momentum=0.8, warmup_bias_lr=0.1, box=0.05, cls=0.5, cls_pw=1.0, obj=1.0, obj_pw=1.0, iou_t=0.2, anchor_t=4.0, fl_gamma=0.0, hsv_h=0.015, hsv_s=0.7, hsv_v=0.4, degrees=0.0, translate=0.1, scale=0.5, shear=0.0, perspective=0.0, flipud=0.0, fliplr=0.5, mosaic=1.0, mixup=0.0\n",
            "\u001b[34m\u001b[1mwandb: \u001b[0mInstall Weights & Biases for YOLOv5 logging with 'pip install wandb' (recommended)\n",
            "Downloading https://github.com/ultralytics/yolov5/releases/download/v5.0/yolov5x.pt to yolov5x.pt...\n",
            "100% 168M/168M [00:01<00:00, 102MB/s]\n",
            "\n",
            "Overriding model.yaml nc=80 with nc=14\n",
            "\n",
            "                 from  n    params  module                                  arguments                     \n",
            "  0                -1  1      8800  models.common.Focus                     [3, 80, 3]                    \n",
            "  1                -1  1    115520  models.common.Conv                      [80, 160, 3, 2]               \n",
            "  2                -1  1    309120  models.common.C3                        [160, 160, 4]                 \n",
            "  3                -1  1    461440  models.common.Conv                      [160, 320, 3, 2]              \n",
            "  4                -1  1   3285760  models.common.C3                        [320, 320, 12]                \n",
            "  5                -1  1   1844480  models.common.Conv                      [320, 640, 3, 2]              \n",
            "  6                -1  1  13125120  models.common.C3                        [640, 640, 12]                \n",
            "  7                -1  1   7375360  models.common.Conv                      [640, 1280, 3, 2]             \n",
            "  8                -1  1   4099840  models.common.SPP                       [1280, 1280, [5, 9, 13]]      \n",
            "  9                -1  1  19676160  models.common.C3                        [1280, 1280, 4, False]        \n",
            " 10                -1  1    820480  models.common.Conv                      [1280, 640, 1, 1]             \n",
            " 11                -1  1         0  torch.nn.modules.upsampling.Upsample    [None, 2, 'nearest']          \n",
            " 12           [-1, 6]  1         0  models.common.Concat                    [1]                           \n",
            " 13                -1  1   5332480  models.common.C3                        [1280, 640, 4, False]         \n",
            " 14                -1  1    205440  models.common.Conv                      [640, 320, 1, 1]              \n",
            " 15                -1  1         0  torch.nn.modules.upsampling.Upsample    [None, 2, 'nearest']          \n",
            " 16           [-1, 4]  1         0  models.common.Concat                    [1]                           \n",
            " 17                -1  1   1335040  models.common.C3                        [640, 320, 4, False]          \n",
            " 18                -1  1    922240  models.common.Conv                      [320, 320, 3, 2]              \n",
            " 19          [-1, 14]  1         0  models.common.Concat                    [1]                           \n",
            " 20                -1  1   4922880  models.common.C3                        [640, 640, 4, False]          \n",
            " 21                -1  1   3687680  models.common.Conv                      [640, 640, 3, 2]              \n",
            " 22          [-1, 10]  1         0  models.common.Concat                    [1]                           \n",
            " 23                -1  1  19676160  models.common.C3                        [1280, 1280, 4, False]        \n",
            " 24      [17, 20, 23]  1    127851  models.yolo.Detect                      [14, [[10, 13, 16, 30, 33, 23], [30, 61, 62, 45, 59, 119], [116, 90, 156, 198, 373, 326]], [320, 640, 1280]]\n",
            "Model Summary: 607 layers, 87331851 parameters, 87331851 gradients, 217.6 GFLOPS\n",
            "\n",
            "Transferred 788/794 items from yolov5x.pt\n",
            "Scaled weight_decay = 0.0005\n",
            "Optimizer groups: 134 .bias, 134 conv.weight, 131 other\n",
            "\u001b[34m\u001b[1mtrain: \u001b[0mScanning '/content/train' images and labels... 3515 found, 0 missing, 0 empty, 0 corrupted: 100% 3515/3515 [00:44<00:00, 79.60it/s] \n",
            "\u001b[34m\u001b[1mtrain: \u001b[0mNew cache created: /content/train.cache\n",
            "Traceback (most recent call last):\n",
            "  File \"train.py\", line 542, in <module>\n",
            "    train(hyp, opt, device, tb_writer)\n",
            "  File \"train.py\", line 195, in train\n",
            "    assert mlc < nc, 'Label class %g exceeds nc=%g in %s. Possible class labels are 0-%g' % (mlc, nc, opt.data, nc - 1)\n",
            "AssertionError: Label class 15 exceeds nc=14 in /content/config.yaml. Possible class labels are 0-13\n"
          ],
          "name": "stdout"
        }
      ]
    }
  ]
}